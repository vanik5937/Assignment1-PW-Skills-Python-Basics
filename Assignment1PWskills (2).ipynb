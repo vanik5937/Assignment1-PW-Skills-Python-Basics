{
  "nbformat": 4,
  "nbformat_minor": 0,
  "metadata": {
    "colab": {
      "provenance": []
    },
    "kernelspec": {
      "name": "python3",
      "display_name": "Python 3"
    },
    "language_info": {
      "name": "python"
    }
  },
  "cells": [
    {
      "cell_type": "markdown",
      "source": [
        "**1. Explain the key features of Python that makes it a popular choice for programming.**\n",
        "\n",
        "Following are the key features of python that makes it a popular choice of programming -:\n",
        "\n",
        "i. Ease of learning: Its syntax is clear and easy to read.It emphasizes readability and simplicity.\n",
        "ii. Vast no. of libraries: Python has 13700 libraries which makes it easier to use and this reduces the need of writing the code from scratch.\n",
        "iii. Widely used in the indusry\n",
        "iv. Applications:\n",
        "     i. Backend Pipeline\n",
        "     ii. Frontend Pipeline\n",
        "     iii. Automation\n",
        "     iv. Database\n",
        "     v. Image Processing\n",
        "Pipeline is a steps of code, used to develop application.\n"
      ],
      "metadata": {
        "id": "P7DdNY1SG2mh"
      }
    },
    {
      "cell_type": "markdown",
      "source": [
        "**2. Describe the role of predefined keywords in Python and provide examples of how they are used in a program.**\n",
        "\n",
        "Predefined keywords in python are reserved keywords that have special meaning and function. They are not used for naming a variable, functions.\n",
        "\n",
        "Following are the examples of how they are used in prograam -:\n",
        "i. if - elif - else keyword:\n",
        "example: name = [Ajay, Bijay, sonu, monu]\n",
        " if Ajay not in name:\n",
        "     print(\"Ajay is not present in the list\")\n",
        " else:\n",
        "     print(\"Present\")\n",
        "\n",
        "ii. def keyword: This keyword is used to define a function.\n",
        "example:\n",
        "def add(x,y):\n",
        "    return x+y\n",
        "add(20,10)\n",
        "\n",
        "iii. for, while : It is used in the loop\n",
        "eg. for i in range(0,10):\n",
        "        print(i)\n",
        "    x = 0\n",
        "    while x < 10:\n",
        "        print(x)\n",
        "        x += 1\n",
        "iv. Import is used to import a module\n",
        "eg. import math as m\n",
        "    print(m.sqrt(25))\n",
        "    "
      ],
      "metadata": {
        "id": "dDdx64cjKKmM"
      }
    },
    {
      "cell_type": "markdown",
      "source": [
        "**3. Compare and contrast mutable and immutable objects in Python with examples.**\n",
        "\n",
        " Mutable objects are those objects which can be changed after they are created whereas immutable objects are those objects which cannot be changed after they are created.\n",
        " Some mutable objects in python are List, Dictionaries, Sets\n",
        " Some immutable objects in python includes String, Tuples, etc\n",
        "\n",
        " eg. marks = [10,20,30,40]\n",
        "     marks[0] = 39\n",
        "     1st element of marks list is changed to 39. So list is a mutable objects.\n",
        "\n",
        "     my_tuple = (1,2,3)\n",
        "     new_tuple = my_tuple + (4,)\n",
        "     Here original tuple is unchanged and new tuple is created\n",
        "\n",
        " Mutable objects can be more memory efficient than immutable objects"
      ],
      "metadata": {
        "id": "yR5StoHvNZ0x"
      }
    },
    {
      "cell_type": "markdown",
      "source": [
        "**4. Discuss the different types of operators in Python and provide examples of how they are used.**\n",
        "\n",
        "Following are the operators used in python:\n",
        "\n",
        "i. Arithmatic Operators: These operators are used to do mathematical operatins. Addition, Subtraction, Multiplication, Division , Modulus etc are performed by the arithmetic operators.\n",
        "eg. sum = 5 + 2  # 7 will be stored in sum\n",
        "    mul = 5 * 2  # 10 will be stored in mul\n",
        "    sub = 5 - 2  # 3 will be stored in sub\n",
        "    div = 5/2    # 2.5 will be stored in div\n",
        "\n",
        "2. Comparison Operators: > , < , <= , >=, ==, != comes under comparison operator. They compare values.\n",
        "eg. 3 > 5 // It will give False\n",
        "    3 < 5 # True\n",
        "    5>=5  # True\n",
        "    6<= 5 # False\n",
        "    9 == 9 # True\n",
        "    9!= 9 # False\n",
        "\n",
        "3. Logical Operator: These are used to combine conditional statement. \"and\" and \"or\" comes under logical operator.\n",
        "eg. result = (5 > 3) and (2 < 4)  # result is True\n",
        "    result = (5 > 3) or (2 > 4)  # True\n",
        "\n",
        "4. Bitwise Operator: These perform bitwise and bitwise or, bitwise xor and bitwise not operations.\n",
        "eg. result = 5 & 3  # result is 1 0101 & 0011 = 0001\n",
        "    result = 5 | 3  # result is 7 etc\n",
        "\n",
        "5. Assignment Operator: It assigns value to variables.\n",
        "eg x = 5\n",
        "   x *= 5\n",
        "   x /= 5\n",
        "   x += 5\n",
        "\n",
        "6. Membership Operators: These operators are used to test if a sequence contains a value or not.\n",
        "s = [1,2,3,4,5]\n",
        "if 1 in s:     #True\n",
        "    print(\"Present\")"
      ],
      "metadata": {
        "id": "eEct3oOzjVfW"
      }
    },
    {
      "cell_type": "markdown",
      "source": [],
      "metadata": {
        "id": "U8NVhD7EQUm5"
      }
    },
    {
      "cell_type": "markdown",
      "source": [
        "**5. Explain the concept of type casting in Python with examples.**\n",
        "\n",
        "It is the process of conversion of one type of data to another type.\n",
        "It is used in data manipulation, peforming arithmetic operations, etc.\n",
        "\n",
        "Following are two types of typecasting:\n",
        " i. Explicit Typecasting: We have to convert one data type to another manually.\n",
        " eg. int() It converts value to integer\n",
        "     float() converts a value to a float\n",
        "     str() converts a value to a string\n",
        "     list() converts a value to a list , etc\n",
        "ii. Implicit Typecasting: It occurs automatically.\n",
        "for eg, x = 5 #python automatically converts it into integer\n",
        "        y= 3.5 # float\n",
        "        x = input() # string\n",
        "        s = \"Ajay\" # string\n"
      ],
      "metadata": {
        "id": "YFiZuuEvoUyU"
      }
    },
    {
      "cell_type": "markdown",
      "source": [
        "**6. How do conditional statements work in Python? Illustrate with examples.**\n",
        "\n",
        "It is used to execute code based on the evaluation of one or more conditions.  if, elif, and else comes under conditional statements.\n",
        "\n",
        "for eg.\n",
        " x = 5\n",
        " if x > 5:\n",
        "     print(\"If staement runs\")\n",
        " elif x == 0:\n",
        "     print(\"elif statement runs\")\n",
        " else:\n",
        "     print(\"else statement runs\")\n",
        " if 1st condition is true then if statment will execute otherwise it will proceed to elif statement and if elif condition is true it will run elif statement otherwise else statament will be executed."
      ],
      "metadata": {
        "id": "AQ5Ic6X1rZsI"
      }
    },
    {
      "cell_type": "markdown",
      "source": [],
      "metadata": {
        "id": "EsGiFvm6s8AB"
      }
    },
    {
      "cell_type": "markdown",
      "source": [
        "**7. Describe the different types of loops in Python and their use cases with examples.**\n",
        "Loops are used to perform the same operation multiple times until a specific condition is met. There are two types of loops in python:\n",
        "i. for loop: It is used to iterate over a sequence or iterable objects. It is used to execute a code of block fixed no. of times.\n",
        "eg. for i in range(0,5):\n",
        "        print(i, end =\" \")\n",
        "    output\n",
        "    1 2 3 4\n",
        "ii. while loop: It is generally used when we dont know the no. of iterations to be performed. It is used to exuecute a code of block repeatedly as long as the condition is true.\n",
        "\n",
        "x= 5\n",
        "while(x>3):\n",
        "    print(x, end=\" \")\n",
        "    x -= 1\n",
        "output\n",
        "5 4\n"
      ],
      "metadata": {
        "id": "1LBJq-xjtVVD"
      }
    }
  ]
}